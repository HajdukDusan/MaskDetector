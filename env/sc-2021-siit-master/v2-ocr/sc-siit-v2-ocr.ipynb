{
 "cells": [
  {
   "cell_type": "markdown",
   "metadata": {},
   "source": [
    "# Soft Computing\n",
    "\n",
    "## Vežba 2 - OCR (Optical Character Recognition)"
   ]
  },
  {
   "cell_type": "markdown",
   "metadata": {},
   "source": [
    "Cilj ovih vežbi je implementacija sistema za optičko prepoznavanje karaktera (OCR).<br>\n",
    "Za rad sa neuronskim mrežama koristićemo <a href=\"https://keras.io/\">Keras</a> biblioteku. "
   ]
  },
  {
   "cell_type": "markdown",
   "metadata": {},
   "source": [
    "### Tok aktivnosti implementacije OCR-a"
   ]
  },
  {
   "cell_type": "markdown",
   "metadata": {},
   "source": [
    "Tok aktivnosti predstavlja korake koje je potrebno izvršiti prilikom implementacije OCR-a. "
   ]
  },
  {
   "cell_type": "markdown",
   "metadata": {},
   "source": [
    "<img src=\"images/tok_aktivnosti.png\"/>"
   ]
  },
  {
   "cell_type": "markdown",
   "metadata": {},
   "source": [
    "### Početak implementacije\n",
    "\n",
    "Skup paketa/biblioteka sa prethodnih vežbi smo proširili Keras bibliotekom za rad sa neuronskim mrežama."
   ]
  },
  {
   "cell_type": "code",
   "execution_count": 1,
   "metadata": {},
   "outputs": [],
   "source": [
    "import numpy as np\n",
    "import cv2 # OpenCV\n",
    "import matplotlib\n",
    "import matplotlib.pyplot as plt\n",
    "import collections"
   ]
  },
  {
   "cell_type": "code",
   "execution_count": 2,
   "metadata": {},
   "outputs": [],
   "source": [
    "# iscrtavanje slika u notebook-u\n",
    "%matplotlib inline\n",
    "# prikaz vecih slika\n",
    "matplotlib.rcParams['figure.figsize'] = 16,12"
   ]
  },
  {
   "cell_type": "code",
   "execution_count": 4,
   "metadata": {},
   "outputs": [],
   "source": [
    "# keras\n",
    "from tensorflow import keras\n",
    "from keras.models import Sequential\n",
    "from keras.layers.core import Dense, Activation\n",
    "\n",
    "from tensorflow.keras.optimizers import SGD"
   ]
  },
  {
   "cell_type": "markdown",
   "metadata": {},
   "source": [
    "### Koraci [1, 3]\n",
    "\n",
    "Ovi koraci su detaljno objašnjeni na prethodnim vežbama."
   ]
  },
  {
   "cell_type": "code",
   "execution_count": 5,
   "metadata": {},
   "outputs": [],
   "source": [
    "def load_image(path):\n",
    "    return cv2.cvtColor(cv2.imread(path), cv2.COLOR_BGR2RGB)\n",
    "\n",
    "def image_gray(image):\n",
    "    return cv2.cvtColor(image, cv2.COLOR_RGB2GRAY)\n",
    "\n",
    "def image_bin(image_gs):\n",
    "    height, width = image_gs.shape[0:2]\n",
    "    image_binary = np.ndarray((height, width), dtype=np.uint8)\n",
    "    ret, image_bin = cv2.threshold(image_gs, 127, 255, cv2.THRESH_BINARY)\n",
    "    return image_bin\n",
    "\n",
    "def invert(image):\n",
    "    return 255-image\n",
    "\n",
    "def display_image(image, color=False):\n",
    "    if color:\n",
    "        plt.imshow(image)\n",
    "    else:\n",
    "        plt.imshow(image, 'gray')\n",
    "\n",
    "def dilate(image):\n",
    "    kernel = np.ones((3, 3)) # strukturni element 3x3 blok\n",
    "    return cv2.dilate(image, kernel, iterations=1)\n",
    "\n",
    "def erode(image):\n",
    "    kernel = np.ones((3, 3)) # strukturni element 3x3 blok\n",
    "    return cv2.erode(image, kernel, iterations=1)"
   ]
  },
  {
   "cell_type": "markdown",
   "metadata": {},
   "source": [
    "Prilikom implementacije koraka [4, 9] oslonićemo se na slike vezane za **Primer 1**:\n",
    "* treniranje: **images/brojevi.png**\n",
    "* testiranje: **images/test.png**"
   ]
  },
  {
   "cell_type": "markdown",
   "metadata": {},
   "source": [
    "### Korak 4 - Izdvajanje regiona od interesa\n",
    "\n",
    "U ovom koraku potrebno je izdvojiti samo regione (konture) od interesa. Potrebno je označiti regione od interesa na slici i napraviti listu slika od regiona koja će kasnije biti ulaz za neuronsku mrežu.\n",
    "\n",
    "Kako bi svi regioni koje ćemo koristiti za neuronsku mrežu biti iste veličine, implementiraćemo metodu za promenu veličine slike na 28 x 28."
   ]
  },
  {
   "cell_type": "code",
   "execution_count": 6,
   "metadata": {},
   "outputs": [],
   "source": [
    "def resize_region(region):\n",
    "    return cv2.resize(region, (28, 28), interpolation=cv2.INTER_NEAREST)"
   ]
  },
  {
   "cell_type": "code",
   "execution_count": 7,
   "metadata": {},
   "outputs": [
    {
     "name": "stdout",
     "output_type": "stream",
     "text": [
      "Test resize passsed:  True\n"
     ]
    }
   ],
   "source": [
    "# test za proveru rada \n",
    "test_resize_img = load_image('images/test_resize.png')\n",
    "test_resize_ref = (28, 28)\n",
    "test_resize_res = resize_region(test_resize_img).shape[0:2]\n",
    "print(\"Test resize passsed: \", test_resize_res == test_resize_ref)"
   ]
  },
  {
   "cell_type": "markdown",
   "metadata": {},
   "source": [
    "Metoda za označavanje regiona od interesa treba da označi regione od interesa na originalnoj slici i za svaki region napravi posebnu sliku dimenzija 28 x 28. Kao povratnu vrednost vraća originalnu sliku na kojoj su obeleženi regioni i niz slika koje predstavljaju regione sortirane po rastućoj vrednosti **X** ose.\n",
    "\n",
    "Za potrebe označavanja regiona iskoristićemo **boundingRect**, a za obeležavanje regiona **rectangle** metodu OpenCV-ja."
   ]
  },
  {
   "cell_type": "code",
   "execution_count": 8,
   "metadata": {},
   "outputs": [],
   "source": [
    "def select_roi(image_orig, image_bin):\n",
    "    contours, hierarchy = cv2.findContours(image_bin.copy(), cv2.RETR_LIST, cv2.CHAIN_APPROX_SIMPLE)\n",
    "    sorted_regions = [] # lista sortiranih regiona po X osi\n",
    "    regions_array = []\n",
    "    for contour in contours:\n",
    "        x, y, w, h = cv2.boundingRect(contour) # koordinate i velicina granicnog pravougaonika\n",
    "        area = cv2.contourArea(contour)\n",
    "        if area > 100 and h < 100 and h > 15 and w > 20:\n",
    "            # kopirati [y:y+h+1, x:x+w+1] sa binarne slike i smestiti u novu sliku\n",
    "            # oznaciti region pravougaonikom na originalnoj slici sa rectangle funkcijom\n",
    "            region = image_bin[y:y+h+1, x:x+w+1]\n",
    "            regions_array.append([resize_region(region), (x, y, w, h)])\n",
    "            cv2.rectangle(image_orig, (x, y), (x + w, y + h), (0, 255, 0), 2)\n",
    "    \n",
    "    regions_array = sorted(regions_array, key=lambda x: x[1][0])\n",
    "    sorted_regions = [region[0] for region in regions_array]\n",
    "    return image_orig, sorted_regions"
   ]
  },
  {
   "cell_type": "markdown",
   "metadata": {},
   "source": [
    "### Korak 5 - Priprema podataka za obučavanje\n",
    "\n",
    "Regioni od interesa su predstavljeni vektorom čiji su elementi matrice dimenzija 28 x 28. Elementi matrica su vrednosti 0 ili 255. Potrebno je skalirati vrednosti elemenata matrice na opseg [0, 1], kako bi se pogodio linearni deo sigmoid funkcije i smanjilo vreme obučavanja. Nakon skaliranja, matrice je potrebno transformisati u vektor od 784 elementa."
   ]
  },
  {
   "cell_type": "code",
   "execution_count": 9,
   "metadata": {},
   "outputs": [],
   "source": [
    "def scale_to_range(image):\n",
    "    return image/255"
   ]
  },
  {
   "cell_type": "code",
   "execution_count": 10,
   "metadata": {},
   "outputs": [
    {
     "name": "stdout",
     "output_type": "stream",
     "text": [
      "Test scale passed:  True\n"
     ]
    }
   ],
   "source": [
    "# test za proveru\n",
    "test_scale_matrix = np.array([[0, 255], [51, 153]], dtype='float')\n",
    "test_scale_ref = np.array([[0., 1.], [0.2, 0.6]], dtype='float')\n",
    "test_scale_res = scale_to_range(test_scale_matrix)\n",
    "print(\"Test scale passed: \", np.array_equal(test_scale_res, test_scale_ref))"
   ]
  },
  {
   "cell_type": "code",
   "execution_count": 11,
   "metadata": {},
   "outputs": [],
   "source": [
    "def matrix_to_vector(image):\n",
    "    return image.flatten()"
   ]
  },
  {
   "cell_type": "code",
   "execution_count": 12,
   "metadata": {},
   "outputs": [
    {
     "name": "stdout",
     "output_type": "stream",
     "text": [
      "Test matrix to vector passed:  True\n"
     ]
    }
   ],
   "source": [
    "test_mtv = np.ndarray((28, 28))\n",
    "test_mtv_ref = (784, )\n",
    "test_mtv_res = matrix_to_vector(test_mtv).shape\n",
    "print(\"Test matrix to vector passed: \", test_mtv_res == test_mtv_ref)"
   ]
  },
  {
   "cell_type": "code",
   "execution_count": 13,
   "metadata": {},
   "outputs": [],
   "source": [
    "def prepare_for_ann(regions):\n",
    "    ready_for_ann = []\n",
    "    for region in regions:\n",
    "        scale = scale_to_range(region)\n",
    "        ready_for_ann.append(matrix_to_vector(scale))\n",
    "    return ready_for_ann"
   ]
  },
  {
   "cell_type": "markdown",
   "metadata": {},
   "source": [
    "Potrebno je konvertovati alfabet u niz pogodan za obučavanje neuronske mreže, odnosno niz čiji su svi elementi 0 osim elemenata čiji je indeks jednak indeksu elementa iz alfabeta za koji formiramo niz. \n",
    "\n",
    "Primeri:\n",
    "<ul>\n",
    "    <li>Prvi element alfabeta: [1, 0, 0, 0, 0, 0, 0, 0, 0, 0],</li>\n",
    "    <li>Drugi element alfabeta: [0, 1, 0, 0, 0, 0, 0, 0, 0, 0] itd.</li>\n",
    "</ul>"
   ]
  },
  {
   "cell_type": "code",
   "execution_count": 14,
   "metadata": {},
   "outputs": [],
   "source": [
    "def convert_output(alphabet):\n",
    "    nn_outputs = []\n",
    "    for index in range(len(alphabet)):\n",
    "        output = np.zeros(len(alphabet))\n",
    "        output[index] = 1\n",
    "        nn_outputs.append(output)\n",
    "    return np.array(nn_outputs)"
   ]
  },
  {
   "cell_type": "code",
   "execution_count": 15,
   "metadata": {},
   "outputs": [
    {
     "name": "stdout",
     "output_type": "stream",
     "text": [
      "Test convert output:  True\n"
     ]
    }
   ],
   "source": [
    "# test konverzije\n",
    "test_convert_alphabet = [0, 1, 2]\n",
    "test_convert_ref = np.array([[1, 0, 0], [0, 1, 0], [0, 0, 1]], dtype='float')\n",
    "test_convert_res = convert_output(test_convert_alphabet).astype('float')\n",
    "print(\"Test convert output: \", np.array_equal(test_convert_res, test_convert_ref))"
   ]
  },
  {
   "cell_type": "markdown",
   "metadata": {},
   "source": [
    "### Koraci [6, 7]\n",
    "\n",
    "Veštačka neuronska mreža se sastoji od 784 ulazna neurona, 128 neurona u skrivenom sloju i 10 neurona na izlazu. \n",
    "\n",
    "Zašto baš 784 neurona na ulazu i 10 neurona na izlazu?\n",
    "\n",
    "Regione smo transformisali prvo na matricu dimenzija 28 x 28, a zatim u vektor od 784 elementa. Broj neurona na izlazu je posledica broja znakova u alfabetu. \n",
    "\n",
    "<img src=\"images/neuronska_mreza.png\" />"
   ]
  },
  {
   "cell_type": "code",
   "execution_count": 16,
   "metadata": {},
   "outputs": [],
   "source": [
    "def create_ann(output_size):\n",
    "    ann = Sequential()\n",
    "    ann.add(Dense(128, input_dim=784, activation='sigmoid'))\n",
    "    ann.add(Dense(output_size, activation='sigmoid'))\n",
    "    return ann"
   ]
  },
  {
   "cell_type": "code",
   "execution_count": 17,
   "metadata": {},
   "outputs": [],
   "source": [
    "def train_ann(ann, X_train, y_train, epochs):\n",
    "    X_train = np.array(X_train, np.float32) # dati ulaz\n",
    "    y_train = np.array(y_train, np.float32) # zeljeni izlazi na date ulaze\n",
    "    \n",
    "    print(\"\\nTraining started...\")\n",
    "    sgd = SGD(learning_rate=0.01, momentum=0.9)\n",
    "    ann.compile(loss='mean_squared_error', optimizer=sgd)\n",
    "    ann.fit(X_train, y_train, epochs=epochs, batch_size=1, verbose=0, shuffle=False)\n",
    "    print(\"\\nTraining completed...\")\n",
    "    return ann"
   ]
  },
  {
   "cell_type": "markdown",
   "metadata": {},
   "source": [
    "### Korak 8 - Određivanje pobedničkog neurona\n",
    "\n",
    "Pobednički neuron je neuron čija je aktivaciona vrednost najveća."
   ]
  },
  {
   "cell_type": "code",
   "execution_count": 18,
   "metadata": {},
   "outputs": [],
   "source": [
    "def winner(output):\n",
    "    return max(enumerate(output), key=lambda x: x[1])[0]"
   ]
  },
  {
   "cell_type": "code",
   "execution_count": 19,
   "metadata": {},
   "outputs": [
    {
     "name": "stdout",
     "output_type": "stream",
     "text": [
      "Test winner passed:  True\n"
     ]
    }
   ],
   "source": [
    "# test winner\n",
    "test_winner_output = [0., 0.2, 0.3, 0.95]\n",
    "test_winner_ref = 3\n",
    "test_winner_res = winner(test_winner_output)\n",
    "print(\"Test winner passed: \", test_winner_res == test_winner_ref)"
   ]
  },
  {
   "cell_type": "markdown",
   "metadata": {},
   "source": [
    "### Korak 9 - Prikaz rezultata\n",
    "\n",
    "Prikaz rezultata prepoznavanja - za svaki rezultat je potrebno pronaći indeks pobedničkog neurona koji ujedno predstavlja i indeks prepoznatog elementa u alfabetu. Karakter se dodaje u rezultujuću listu."
   ]
  },
  {
   "cell_type": "code",
   "execution_count": 20,
   "metadata": {},
   "outputs": [],
   "source": [
    "def display_result(outputs, alphabet):\n",
    "    result = []\n",
    "    for output in outputs:\n",
    "        result.append(alphabet[winner(output)])\n",
    "    return result"
   ]
  },
  {
   "cell_type": "markdown",
   "metadata": {},
   "source": [
    "### Primer 1\n",
    "\n",
    "Implementirati sistem koji će vršiti optičko prepoznavanje brojeva. Sistem obučiti na **images/brojevi.png**, a testirati na **images/test.png**."
   ]
  },
  {
   "cell_type": "markdown",
   "metadata": {},
   "source": [
    "Za početak, učitavamo sliku za obučavanje veštačke neuronske mreže i transformišemo je u binarni oblik. Nakon toga označavamo regione od interesa i prikazujemo ih na originalnoj slici."
   ]
  },
  {
   "cell_type": "code",
   "execution_count": 21,
   "metadata": {},
   "outputs": [
    {
     "data": {
      "image/png": "[encoded data removed]",
      "text/plain": [
       "<Figure size 1152x864 with 1 Axes>"
      ]
     },
     "metadata": {
      "needs_background": "light"
     },
     "output_type": "display_data"
    }
   ],
   "source": [
    "image_color = load_image('images/brojevi.png')\n",
    "img = image_bin(image_gray(image_color))\n",
    "img_bin = erode(dilate(img))\n",
    "selected_regions, numbers = select_roi(image_color.copy(), img_bin)\n",
    "display_image(selected_regions)"
   ]
  },
  {
   "cell_type": "markdown",
   "metadata": {},
   "source": [
    "Zatim definišemo alfabet i vršimo treniranje veštačke neuronske mreže."
   ]
  },
  {
   "cell_type": "code",
   "execution_count": 22,
   "metadata": {},
   "outputs": [
    {
     "name": "stdout",
     "output_type": "stream",
     "text": [
      "\n",
      "Training started...\n",
      "\n",
      "Training completed...\n"
     ]
    }
   ],
   "source": [
    "alphabet = [0, 1, 2, 3, 4, 5, 6, 7, 8, 9]\n",
    "\n",
    "inputs = prepare_for_ann(numbers)\n",
    "outputs = convert_output(alphabet)\n",
    "ann = create_ann(output_size=10)\n",
    "ann = train_ann(ann, inputs, outputs, epochs=2000)"
   ]
  },
  {
   "cell_type": "markdown",
   "metadata": {},
   "source": [
    "Verifikujemo obučenost neuronske mreže uz pomoć trećeg i četvrtog ulaznog vektora (brojevi 2 i 3). "
   ]
  },
  {
   "cell_type": "code",
   "execution_count": 23,
   "metadata": {},
   "outputs": [
    {
     "name": "stdout",
     "output_type": "stream",
     "text": [
      "[[8.4189475e-03 2.1699458e-02 9.6003139e-01 2.2652149e-02 1.1708558e-02\n",
      "  1.5369952e-03 4.9009025e-03 2.1287054e-02 2.0860881e-02 3.6256015e-03]\n",
      " [4.3042600e-03 1.3235658e-02 1.8949956e-02 9.5804453e-01 1.4290303e-02\n",
      "  2.2715956e-02 7.4654818e-04 1.4179468e-02 1.3927072e-02 2.0364791e-02]]\n",
      "\n",
      "\n",
      "[2, 3]\n"
     ]
    }
   ],
   "source": [
    "result = ann.predict(np.array(inputs[2:4], np.float32))\n",
    "print(result)\n",
    "print(\"\\n\")\n",
    "print(display_result(result, alphabet))"
   ]
  },
  {
   "cell_type": "markdown",
   "metadata": {},
   "source": [
    "Nakon verifikacije obučenosti neuronske mreže, prelazimo na testiranje.\n",
    "\n",
    "Potrebno je da:\n",
    "* učitamo sliku za testiranje\n",
    "* transformišemo je u oblik pogodan za ulaz u neuronsku mrežu (na isti način kao što smo to uradili kod treniranja)\n",
    "* prikažemo rezultate predikcije"
   ]
  },
  {
   "cell_type": "code",
   "execution_count": 24,
   "metadata": {},
   "outputs": [
    {
     "data": {
      "image/png": "[encoded data removed]",
      "text/plain": [
       "<Figure size 1152x864 with 1 Axes>"
      ]
     },
     "metadata": {
      "needs_background": "light"
     },
     "output_type": "display_data"
    }
   ],
   "source": [
    "test_color = load_image('images/test.png')\n",
    "test = image_bin(image_gray(test_color))\n",
    "test_bin = erode(dilate(test))\n",
    "selected_test, test_numbers = select_roi(test_color.copy(), test_bin)\n",
    "display_image(selected_test)"
   ]
  },
  {
   "cell_type": "code",
   "execution_count": 25,
   "metadata": {
    "scrolled": true
   },
   "outputs": [
    {
     "name": "stdout",
     "output_type": "stream",
     "text": [
      "[2, 3, 5, 6, 8, 9, 1, 0]\n"
     ]
    }
   ],
   "source": [
    "test_inputs =  prepare_for_ann(test_numbers)\n",
    "result = ann.predict(np.array(test_inputs, np.float32))\n",
    "print(display_result(result, alphabet))"
   ]
  },
  {
   "cell_type": "markdown",
   "metadata": {},
   "source": [
    "### Primer 2\n",
    "\n",
    "Implementirati sistem koji će vršiti optičko prepoznavanje slova. Sistem obučiti na **images/alphabet.png**, a testirati na **images/lorem_ipsum.png**."
   ]
  },
  {
   "cell_type": "markdown",
   "metadata": {},
   "source": [
    "### K - Means"
   ]
  },
  {
   "cell_type": "markdown",
   "metadata": {},
   "source": [
    "Kada je reč o čitanju stvarnog teksta, deo problema predstavlja i određivanje granica između reči i redova u tekstu. Kao rešenje moguće je koristiti K-Means algoritam i klasterizovati razmak između regiona u dva klastera:  \n",
    "* Razmak između slova u reči i  \n",
    "* Razmak između reči.\n",
    "\n",
    "Koristićemo <a href=\"http://scikit-learn.org/stable/modules/generated/sklearn.cluster.KMeans.html\">scikit-learn</a> implementaciju K-Means algoritma."
   ]
  },
  {
   "cell_type": "code",
   "execution_count": 28,
   "metadata": {},
   "outputs": [],
   "source": [
    "from sklearn.cluster import KMeans"
   ]
  },
  {
   "cell_type": "markdown",
   "metadata": {},
   "source": [
    "Potrebno je prvo modifikovati metodu za određivanje regiona od interesa tako da vraća i vrednosti rastojanja po X osi, između svih regiona."
   ]
  },
  {
   "cell_type": "code",
   "execution_count": 29,
   "metadata": {},
   "outputs": [],
   "source": [
    "def select_roi_with_distances(image_orig, image_bin):\n",
    "    contours, hierarchy = cv2.findContours(image_bin.copy(), cv2.RETR_EXTERNAL, cv2.CHAIN_APPROX_SIMPLE)\n",
    "    regions_array = []\n",
    "    for contour in contours:\n",
    "        x, y, w, h = cv2.boundingRect(contour)\n",
    "        region = image_bin[y:y+h+1, x:x+w+1]\n",
    "        regions_array.append([resize_region(region), (x, y, w, h)])\n",
    "        cv2.rectangle(image_orig, (x, y), (x+w, y+h), (0, 255, 0), 2)\n",
    "    \n",
    "    regions_array = sorted(regions_array, key=lambda x: x[1][0])\n",
    "    \n",
    "    sorted_regions = [region[0] for region in regions_array]\n",
    "    sorted_rectangles = [region[1] for region in regions_array]\n",
    "    region_distances = []\n",
    "    # izdvojiti sortirane parametre opisujucih pravougaonika\n",
    "    # izracunati rastojanja izmedju svih susednih regiona po X osi i dodati ih u niz rastojanja\n",
    "    for index in range(0, len(sorted_rectangles) - 1):\n",
    "        current = sorted_rectangles[index]\n",
    "        next_rect = sorted_rectangles[index + 1]\n",
    "        distance = next_rect[0] - (current[0] + current[2]) # x_next - (x_current + w_current)\n",
    "        region_distances.append(distance)\n",
    "    \n",
    "    return image_orig, sorted_regions, region_distances"
   ]
  },
  {
   "cell_type": "markdown",
   "metadata": {},
   "source": [
    "Zatim se vrši modifikacija metode za prikaz rezultata, tako da formira string sa razmacima između reči. Metodi je neophodno proslediti obučen KMeans objekat kako bi odredila koja grupa rastojanja predstavlja razmak između reči, a koja između slova, i na osnovu toga formirala string od elemenata pronađenih sa slike. "
   ]
  },
  {
   "cell_type": "code",
   "execution_count": 30,
   "metadata": {},
   "outputs": [],
   "source": [
    "def display_result_with_spaces(outputs, alphabet, k_means):\n",
    "    # odredjivanje indeksa grupe koja odgovara rastojanju izmedju reci\n",
    "    w_space_group = max(enumerate(k_means.cluster_centers_), key=lambda x: x[1])[0]\n",
    "    result = alphabet[winner(outputs[0])]\n",
    "    # iterativno dodavanje prepoznatih elemenata\n",
    "    # dodavanje space karaktera ako je rastojanje izmedju dva slova odgovara rastojanju izmedju reci\n",
    "    for idx, output in enumerate(outputs[1:, :]):\n",
    "        if k_means.labels_[idx] == w_space_group:\n",
    "            result += ' '\n",
    "        result += alphabet[winner(output)]\n",
    "    return result"
   ]
  },
  {
   "cell_type": "markdown",
   "metadata": {},
   "source": [
    "Nakon što smo modifikovali pomoćne metode, prelazimo na obučavanje veštačke neuronske mreže. \n",
    "\n",
    "Prvo učitavamo sliku za obučavanje i prikazujemo naše regione od interesa."
   ]
  },
  {
   "cell_type": "code",
   "execution_count": 31,
   "metadata": {},
   "outputs": [
    {
     "name": "stdout",
     "output_type": "stream",
     "text": [
      "Broj prepoznatih regiona:  26\n"
     ]
    },
    {
     "data": {
      "image/png": "[encoded data removed]",
      "text/plain": [
       "<Figure size 1152x864 with 1 Axes>"
      ]
     },
     "metadata": {
      "needs_background": "light"
     },
     "output_type": "display_data"
    }
   ],
   "source": [
    "image_color = load_image('images/alphabet.png')\n",
    "img = image_bin(image_gray(image_color))\n",
    "selected_regions, letters, region_distances = select_roi_with_distances(image_color.copy(), img)\n",
    "print(\"Broj prepoznatih regiona: \", len(letters))\n",
    "display_image(selected_regions)"
   ]
  },
  {
   "cell_type": "markdown",
   "metadata": {},
   "source": [
    "Zatim definišemo alfabet i vršimo treniranje veštačke neuronske mreže"
   ]
  },
  {
   "cell_type": "code",
   "execution_count": 32,
   "metadata": {},
   "outputs": [
    {
     "name": "stdout",
     "output_type": "stream",
     "text": [
      "\n",
      "Training started...\n",
      "\n",
      "Training completed...\n"
     ]
    }
   ],
   "source": [
    "alphabet = ['A','B','C','D','E','F','G','H','I','J','K','L','M','N','O','P','Q','R','S','T','U','V','W','X','Y','Z']\n",
    "inputs = prepare_for_ann(letters)\n",
    "outputs = convert_output(alphabet)\n",
    "ann = create_ann(output_size=26)\n",
    "ann = train_ann(ann, inputs, outputs, epochs=2000)"
   ]
  },
  {
   "cell_type": "markdown",
   "metadata": {},
   "source": [
    "Vršimo testiranje obučene veštačke neuronske mreže tako što ćemo:\n",
    "* učitati sliku za testiranje\n",
    "* odrediti regione od interesa i rastojanja među njima\n",
    "* iskoristiti K-Means za grupisanje rastojanja u dve grupe (rastojanja između reči i rastojanja između slova)\n",
    "* prikazati rezultate predikcije."
   ]
  },
  {
   "cell_type": "code",
   "execution_count": 33,
   "metadata": {},
   "outputs": [
    {
     "name": "stdout",
     "output_type": "stream",
     "text": [
      "Broj prepoznatih regiona:  22\n"
     ]
    },
    {
     "data": {
      "text/plain": [
       "KMeans(n_clusters=2)"
      ]
     },
     "execution_count": 33,
     "metadata": {},
     "output_type": "execute_result"
    },
    {
     "data": {
      "image/png": "[encoded data removed]",
      "text/plain": [
       "<Figure size 1152x864 with 1 Axes>"
      ]
     },
     "metadata": {
      "needs_background": "light"
     },
     "output_type": "display_data"
    }
   ],
   "source": [
    "image_color = load_image('images/lorem_ipsum.png')\n",
    "img = image_bin(image_gray(image_color))\n",
    "selected_regions, letters, distances = select_roi_with_distances(image_color.copy(), img)\n",
    "print(\"Broj prepoznatih regiona: \", len(letters))\n",
    "display_image(selected_regions)\n",
    "\n",
    "# neophodno je da u K-Means algoritam bude prosledjena matrica u kojoj vrste odredjuju elemente\n",
    "distances = np.array(distances).reshape(len(distances), 1)\n",
    "\n",
    "k_means = KMeans(n_clusters=2)\n",
    "k_means.fit(distances)"
   ]
  },
  {
   "cell_type": "code",
   "execution_count": 34,
   "metadata": {},
   "outputs": [
    {
     "name": "stdout",
     "output_type": "stream",
     "text": [
      "LOREM IPSUM DOLOR SIT AMET\n"
     ]
    }
   ],
   "source": [
    "inputs = prepare_for_ann(letters)\n",
    "results = ann.predict(np.array(inputs, np.float32))\n",
    "print(display_result_with_spaces(results, alphabet, k_means))"
   ]
  },
  {
   "cell_type": "markdown",
   "metadata": {},
   "source": [
    "## Kompleksniji OCR\n",
    "\n",
    "OCR sistemi vrše optičko prepoznavanje tekstualnih sadržaja sa fotografija, gde je fotografija ulazni parametar sistema. Performanse sistema će u mnogome zavisiti od pretpostavke o ulaznoj fotografiji. Pošto se takva fotografija pravi u realnom okruženju, normalno je za očekivati dosta spoljnih uticaja. Ukoliko pretpostavimo da ulazna fotografija neće biti pod uticajem određenog broja faktora iz okruženja sistem može da se pojednostavi. Recimo, kamere u industrijskim pogonima prave fotografije u okruženju u kome se nivo osvetljenja može kontrolisati, uređaj za fotografisanje je uvek isti i pravi fotografije koje su \"sličnog\" oblika.\n",
    "\n",
    "Do sada smo OCR sistem implementirali uz pretpostavku da je fotografija idealna i da je tekstualni sadržaj na njoj prost. Međutim, to najčešće nije slučaj. Ulazna fotografija će obično izgledati ovako:\n",
    "\n",
    "<img src=\"images/cifre.jpg\"/>"
   ]
  },
  {
   "cell_type": "markdown",
   "metadata": {},
   "source": [
    "### Obrada digitalne slike\n",
    "\n",
    "Obrada digitalne slike predstavlja prvi skup aktivnosti OCR sistemu. Cilj ovog skupa aktivnosti jeste prilagođavanje ulazne fotografije da bi se nad njom mogla vršiti analiza sadržaja. Obrada digitalne slike može biti dosta složen proces, pošto bi on trebao biti u stanju da obradi bilo kakvu ulaznu fotografiju. Proces analize digitalne slike će biti mnogo jednostavniji ukoliko se fotografija prethodno dobro obradi i ukloni većina šuma."
   ]
  },
  {
   "cell_type": "markdown",
   "metadata": {},
   "source": [
    "#### Neuniformna osvetljenost fotografije\n",
    "\n",
    "Cilj segmentacije jeste klasifikovanje piksela fotografije u one koji pripadaju sadržaju i one koji pripadaju pozadini. Do sada smo za segmentaciju koristili metode bazirane na računanju praga - **threshold**. Ukoliko se za celu fotografiju pronađe jedan prag segmentacije, problem se javlja ako su delovi fotografije osetno manje ili više osvetljeni od ostatka fotografije. Ovaj problem se može rešiti uz korišćenje adaptivnog threshold-a. Na taj način se može rešiti problem neuniformna osvetljenosti fotografije."
   ]
  },
  {
   "cell_type": "code",
   "execution_count": 35,
   "metadata": {},
   "outputs": [
    {
     "data": {
      "image/png": "[encoded data removed]",
      "text/plain": [
       "<Figure size 1152x864 with 1 Axes>"
      ]
     },
     "metadata": {
      "needs_background": "light"
     },
     "output_type": "display_data"
    }
   ],
   "source": [
    "image_color = load_image('images/cifre2.jpg')\n",
    "img = image_bin(image_gray(image_color))\n",
    "display_image(img)"
   ]
  },
  {
   "cell_type": "markdown",
   "metadata": {},
   "source": [
    "#### Šum na fotografiji nakon segmentacije\n",
    "\n",
    "Proces segmentacije će pokušati da klasifikuje piksele tako da ih obeleži da pripadaju sadržaju ili pozadini, ali ne mora da znači da će u tome biti 100% uspešan. Na fotografiji koja je rezultat procesa segmentacije može postojati šum koji može znatno otežati analizu ovakve fotografije u narednim koracima OCR-a. Zbog toga je takav šum potrebno ukloniti u što većoj meri u ranim fazama."
   ]
  },
  {
   "cell_type": "markdown",
   "metadata": {},
   "source": [
    "### Analiza digitalne slike\n",
    "\n",
    "Analiza digitalne slike počinje kreiranjem skupa regiona(kontura) sa binarne slike. Takav skup regiona je potrebno analizirati i izvršiti njihovo prepoznavanje. Problem predstavlja činjenica da region ne mora izgledati uvek isto, iako predstavlja isti karakter. Jedan primer takve situacije jeste rotacija."
   ]
  },
  {
   "cell_type": "markdown",
   "metadata": {},
   "source": [
    "#### Zarotirani simboli na fotografiji\n",
    "\n",
    "Svaki region se skalira na dimenzije 28 x 28 i formira matricu, a nakon toga se pretvara u vektor od 784 elementa. Očigledno je da će takva matrica izgledati drugačije ukoliko je region zarotiran, što će rezultovati činjenicom da ćemo na ulaz neuronske mreže dovesti ulazni vektor koji će jako loše opisivati region koji bi on trebalo da predstavlja. Posledica će biti loša predikcija od strane veštačke neuronske mreže. Zbog toga je regione potrebno zarotirati tako da se oni postave u prirodan položaj."
   ]
  },
  {
   "cell_type": "markdown",
   "metadata": {},
   "source": [
    "Tačke regiona je potrebno rotirati oko tačke **(c<sub>x</sub>, c<sub>y</sub>)** za zadati ugao **$\\alpha = \\pi / 2 - |\\theta|$** gde su **c<sub>x</sub>, c<sub>y</sub> i $\\theta$** parametri dobijeni iz osobina regiona. Na ovaj način treba da se dobiju slike regiona koje su \"relativno\" vertikalne. "
   ]
  },
  {
   "cell_type": "markdown",
   "metadata": {},
   "source": [
    "Formula za rotiranje tačke sa koordinatama **(x,y)** za ugao **$\\alpha$** oko tačke sa koordinatama **(c<sub>x</sub>, c<sub>y</sub>)**:\n",
    "<img src=\"images/rotacija.jpg\"/>"
   ]
  },
  {
   "cell_type": "markdown",
   "metadata": {},
   "source": [
    "#### Simboli koji se sastoje iz više regiona\n",
    "\n",
    "Činjenica da se jedan simbol ne mora sastojati iz samo jednog regiona nama može predstavljati problem (npr: i, ž, ć...). Zbog toga je potrebno izvršiti spajanje kukica i kvačica u okolini simbola pre slanja podataka na predikciju neuronskoj mreži.\n",
    "\n",
    "<img src=\"images/slovo.jpg\"/>"
   ]
  },
  {
   "cell_type": "markdown",
   "metadata": {},
   "source": [
    "Nakon spajanja kukica i kvačica na red dolazi skaliranje regiona na dimenzije 28 x 28. Region je sada niz tačaka čije su koordinate apsolutne koordinate na fotografiji sa koje su regioni preuzeti. Kako bi se isekao pravougaonik oko regiona potrebno je proći kroz sve tačke regiona i koordinate svake od njih prebaciti iz apsolutnih u relativne koordinate u odnosu na poziciju tačke unutar regiona."
   ]
  },
  {
   "cell_type": "markdown",
   "metadata": {},
   "source": [
    "## Zadaci"
   ]
  },
  {
   "cell_type": "markdown",
   "metadata": {},
   "source": [
    "### Zadatak 1 - Kalkulator\n",
    "\n",
    "Implementirati OCR za kalkulator. Obučiti sistem na **images/kalkulator_alfabet.png**. Testirati na:\n",
    "* **images/sabiranje.png**\n",
    "* **images/oduzimanje.png**\n",
    "* **images/slozen_izraz.png**"
   ]
  },
  {
   "cell_type": "markdown",
   "metadata": {},
   "source": [
    "### Zadatak 2 - Redovi\n",
    "\n",
    "Implementirati OCR koji će moći čitati tekst sa više redova. Obučiti sistem na **images/alphabet.png**. Testirati na: **images/redovi.png**."
   ]
  },
  {
   "cell_type": "markdown",
   "metadata": {},
   "source": [
    "### Zadatak 3 - Kukice\n",
    "\n",
    "Implementirati OCR koji će moći čitati simbole koji se sastoje iz više regiona. Obučiti sistem na **images/obucavanje.jpg**. Testirati na **images/testiranje.jpg**."
   ]
  },
  {
   "cell_type": "code",
   "execution_count": null,
   "metadata": {},
   "outputs": [],
   "source": []
  }
 ],
 "metadata": {
  "kernelspec": {
   "display_name": "Python 3",
   "language": "python",
   "name": "python3"
  },
  "language_info": {
   "codemirror_mode": {
    "name": "ipython",
    "version": 3
   },
   "file_extension": ".py",
   "mimetype": "text/x-python",
   "name": "python",
   "nbconvert_exporter": "python",
   "pygments_lexer": "ipython3",
   "version": "3.6.8"
  }
 },
 "nbformat": 4,
 "nbformat_minor": 2
}
