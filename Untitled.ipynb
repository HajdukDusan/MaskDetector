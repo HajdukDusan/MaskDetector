{
 "cells": [
  {
   "cell_type": "code",
   "execution_count": null,
   "id": "9a9b4c52",
   "metadata": {},
   "outputs": [],
   "source": [
    "import pandas as pd\n",
    "import numpy as np\n",
    "from pathlib import Path\n",
    "import os\n",
    "import glob\n",
    "import xml.etree.ElementTree as ET\n",
    "import matplotlib.pyplot as plt\n",
    "import cv2\n",
    "import random\n",
    "import sys\n",
    "from tqdm import tqdm\n",
    "from time import sleep"
   ]
  },
  {
   "cell_type": "code",
   "execution_count": null,
   "id": "804582ef",
   "metadata": {},
   "outputs": [],
   "source": [
    "path_an = str(Path().absolute()) + \"\\\\archive\\\\annotations\"\n",
    "img_base_path = str(Path().absolute()) + \"\\\\archive\\\\images\\\\\"\n",
    "\n",
    "window_size = 20"
   ]
  },
  {
   "cell_type": "code",
   "execution_count": null,
   "id": "18548012",
   "metadata": {},
   "outputs": [],
   "source": []
  }
 ],
 "metadata": {
  "kernelspec": {
   "display_name": "Python 3",
   "language": "python",
   "name": "python3"
  },
  "language_info": {
   "codemirror_mode": {
    "name": "ipython",
    "version": 3
   },
   "file_extension": ".py",
   "mimetype": "text/x-python",
   "name": "python",
   "nbconvert_exporter": "python",
   "pygments_lexer": "ipython3",
   "version": "3.6.8"
  }
 },
 "nbformat": 4,
 "nbformat_minor": 5
}
